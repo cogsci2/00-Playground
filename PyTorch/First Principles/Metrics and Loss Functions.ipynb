{
 "cells": [
  {
   "cell_type": "markdown",
   "source": [
    "# Metrics and Loss Functions from First Principles\n",
    "\n",
    "This is a series of math function recreations for practice."
   ],
   "metadata": {}
  },
  {
   "cell_type": "markdown",
   "source": [
    "<br>\n",
    "<br>"
   ],
   "metadata": {}
  },
  {
   "cell_type": "markdown",
   "source": [
    "# Mean Squared Error\n",
    "\n",
    "$$ \\large\n",
    "MSE = \\frac{1}{n}\\sum_{i=1}^n(Y_i - \\widehat{Y_i})^2\n",
    "$$"
   ],
   "metadata": {}
  },
  {
   "cell_type": "code",
   "execution_count": 39,
   "source": [
    "def mse (l1, l2):\n",
    "    \n",
    "    assert(len(l1) == len(l2))\n",
    "    assert(len(l1) != 0)\n",
    "    \n",
    "    n = len(l1)\n",
    "    delta = [(yi - yhati)**2 for yi, yhati in zip(l1, l2)]\n",
    "    return sum(delta) / n\n",
    "    "
   ],
   "outputs": [],
   "metadata": {}
  },
  {
   "cell_type": "markdown",
   "source": [
    "<br>\n",
    "<br>\n",
    "<br>"
   ],
   "metadata": {}
  },
  {
   "cell_type": "markdown",
   "source": [
    "# Unit Tests"
   ],
   "metadata": {}
  },
  {
   "cell_type": "code",
   "execution_count": 40,
   "source": [
    "\n",
    "from numpy.random import default_rng\n",
    "from sklearn.metrics import mean_squared_error\n",
    "import unittest\n",
    "\n",
    "class TestEntireNotebook(unittest.TestCase):\n",
    "    \n",
    "    def test_mse(self):\n",
    "        # Generate random Lists\n",
    "        rng = default_rng()\n",
    "        l1 = rng.standard_normal(1000)\n",
    "        l2 = rng.standard_normal(1000)\n",
    "\n",
    "        self.assertEqual(\n",
    "            np.round(mse(l1,l2),5), \n",
    "            np.round(mean_squared_error(l1,l2),5)\n",
    "        )\n",
    "\n",
    "\n",
    "    \n",
    "# Run the unit tests\n",
    "unittest.main(argv=[''], verbosity=2, exit=False)"
   ],
   "outputs": [
    {
     "output_type": "stream",
     "name": "stderr",
     "text": [
      "test_mse (__main__.TestEntireNotebook) ... "
     ]
    },
    {
     "output_type": "display_data",
     "data": {
      "text/plain": [
       "<IPython.core.display.Javascript object>"
      ],
      "application/javascript": "\n        if (window._pyforest_update_imports_cell) { window._pyforest_update_imports_cell('import numpy as np'); }\n    "
     },
     "metadata": {}
    },
    {
     "output_type": "display_data",
     "data": {
      "text/plain": [
       "<IPython.core.display.Javascript object>"
      ],
      "application/javascript": "\n        if (window._pyforest_update_imports_cell) { window._pyforest_update_imports_cell('import numpy as np'); }\n    "
     },
     "metadata": {}
    },
    {
     "output_type": "stream",
     "name": "stderr",
     "text": [
      "ok\n",
      "\n",
      "----------------------------------------------------------------------\n",
      "Ran 1 test in 0.006s\n",
      "\n",
      "OK\n"
     ]
    },
    {
     "output_type": "execute_result",
     "data": {
      "text/plain": [
       "<unittest.main.TestProgram at 0x7fd821b4e550>"
      ]
     },
     "metadata": {},
     "execution_count": 40
    }
   ],
   "metadata": {}
  },
  {
   "cell_type": "code",
   "execution_count": 44,
   "source": [
    "l = [1,2,None,3,4]\n",
    "\n",
    "l"
   ],
   "outputs": [
    {
     "output_type": "execute_result",
     "data": {
      "text/plain": [
       "[1, 2, None, 3, 4]"
      ]
     },
     "metadata": {},
     "execution_count": 44
    }
   ],
   "metadata": {}
  },
  {
   "cell_type": "code",
   "execution_count": 42,
   "source": [
    "l.pop"
   ],
   "outputs": [],
   "metadata": {}
  },
  {
   "cell_type": "code",
   "execution_count": 43,
   "source": [
    "l"
   ],
   "outputs": [
    {
     "output_type": "execute_result",
     "data": {
      "text/plain": [
       "[1, 2, 3, 4]"
      ]
     },
     "metadata": {},
     "execution_count": 43
    }
   ],
   "metadata": {}
  },
  {
   "cell_type": "code",
   "execution_count": null,
   "source": [],
   "outputs": [],
   "metadata": {}
  }
 ],
 "metadata": {
  "orig_nbformat": 4,
  "language_info": {
   "name": "python"
  }
 },
 "nbformat": 4,
 "nbformat_minor": 2
}