{
 "cells": [
  {
   "cell_type": "markdown",
   "source": [
    "# Metrics and Loss Functions from First Principles\n",
    "\n",
    "This is a series of math function recreations for practice."
   ],
   "metadata": {}
  },
  {
   "cell_type": "code",
   "execution_count": 9,
   "source": [
    "import numpy as np"
   ],
   "outputs": [],
   "metadata": {}
  },
  {
   "cell_type": "markdown",
   "source": [
    "<br>\n",
    "<br>"
   ],
   "metadata": {}
  },
  {
   "cell_type": "markdown",
   "source": [
    "# Mean Squared Error\n",
    "\n",
    "$$ \\large\n",
    "MSE = \\frac{1}{n}\\sum_{i=1}^n(Y_i - \\widehat{Y_i})^2\n",
    "$$"
   ],
   "metadata": {}
  },
  {
   "cell_type": "code",
   "execution_count": 10,
   "source": [
    "def mse (l1, l2):\n",
    "    \n",
    "    assert(len(l1) == len(l2))\n",
    "    assert(len(l1) != 0)\n",
    "    \n",
    "    n = len(l1)\n",
    "    inner = [(yi - yhati)**2 for yi, yhati in zip(l1, l2)]\n",
    "    return sum(inner) / n\n",
    "    "
   ],
   "outputs": [],
   "metadata": {}
  },
  {
   "cell_type": "markdown",
   "source": [
    "<br>\n",
    "<br>"
   ],
   "metadata": {}
  },
  {
   "cell_type": "markdown",
   "source": [
    "# Mean Absolute Error\n",
    "\n",
    "$$\n",
    "\\large\n",
    "MAE = \\frac{1}{n}\\sum_{i=1}^{n}\\left|(y_i - \\widehat{y_i})\\right|\n",
    "$$"
   ],
   "metadata": {}
  },
  {
   "cell_type": "code",
   "execution_count": 11,
   "source": [
    "def mae (l1, l2):\n",
    "    \n",
    "    assert(len(l1) == len(l2))\n",
    "    assert(len(l1) != 0)\n",
    "    \n",
    "    n = len(l1)\n",
    "    inner = [np.abs(yi - yhati) for yi, yhati in zip(l1, l2)]\n",
    "    return sum(inner) / n"
   ],
   "outputs": [],
   "metadata": {}
  },
  {
   "cell_type": "markdown",
   "source": [
    "<br>\n",
    "<br>\n",
    "<br>"
   ],
   "metadata": {}
  },
  {
   "cell_type": "markdown",
   "source": [
    "# Unit Tests"
   ],
   "metadata": {}
  },
  {
   "cell_type": "code",
   "execution_count": 14,
   "source": [
    "\n",
    "from numpy.random import default_rng\n",
    "from sklearn.metrics import mean_squared_error, mean_absolute_error\n",
    "import unittest\n",
    "\n",
    "class TestEntireNotebook(unittest.TestCase):\n",
    "    \n",
    "    def test_mse(self):\n",
    "        # Generate random Lists\n",
    "        rng = default_rng()\n",
    "        l1 = rng.standard_normal(1000)\n",
    "        l2 = rng.standard_normal(1000)\n",
    "\n",
    "        for i in range(100):\n",
    "            self.assertEqual(\n",
    "                np.round(mse(l1,l2),5), \n",
    "                np.round(mean_squared_error(l1,l2),5)\n",
    "            )\n",
    "\n",
    "\n",
    "    def test_mae(self):\n",
    "        # Generate random Lists\n",
    "        rng = default_rng()\n",
    "        l1 = rng.standard_normal(1000)\n",
    "        l2 = rng.standard_normal(1000)\n",
    "\n",
    "        for i in range(100):\n",
    "            self.assertEqual(\n",
    "                np.round(mae(l1,l2),5), \n",
    "                np.round(mean_absolute_error(l1,l2),5)\n",
    "            )\n",
    "    \n",
    "# Run the unit tests\n",
    "unittest.main(argv=[''], verbosity=2, exit=False)"
   ],
   "outputs": [
    {
     "output_type": "stream",
     "name": "stderr",
     "text": [
      "test_mae (__main__.TestEntireNotebook) ... ok\n",
      "test_mse (__main__.TestEntireNotebook) ... ok\n",
      "\n",
      "----------------------------------------------------------------------\n",
      "Ran 2 tests in 0.072s\n",
      "\n",
      "OK\n"
     ]
    },
    {
     "output_type": "execute_result",
     "data": {
      "text/plain": [
       "<unittest.main.TestProgram at 0x7f2271e921f0>"
      ]
     },
     "metadata": {},
     "execution_count": 14
    }
   ],
   "metadata": {}
  },
  {
   "cell_type": "code",
   "execution_count": null,
   "source": [],
   "outputs": [],
   "metadata": {}
  }
 ],
 "metadata": {
  "orig_nbformat": 4,
  "language_info": {
   "name": "python"
  }
 },
 "nbformat": 4,
 "nbformat_minor": 2
}