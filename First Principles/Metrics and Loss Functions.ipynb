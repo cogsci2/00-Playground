{
 "cells": [
  {
   "cell_type": "markdown",
   "source": [
    "# Metrics and Loss Functions from First Principles\n",
    "\n",
    "This is a series of math function recreations for practice.\n",
    "\n",
    "<br>\n",
    "<br>"
   ],
   "metadata": {}
  },
  {
   "cell_type": "code",
   "execution_count": 1,
   "source": [
    "import numpy as np\n",
    "from icecream import ic\n",
    "import torch\n",
    "from torch import Tensor"
   ],
   "outputs": [],
   "metadata": {}
  },
  {
   "cell_type": "markdown",
   "source": [
    "<br>"
   ],
   "metadata": {}
  },
  {
   "cell_type": "markdown",
   "source": [
    "# Mean Squared Error\n",
    "AKA **L2** Loss\n",
    "\n",
    "Notes:\n",
    "1. Tends to exaggerate outliers (nice for interpretation as a metric, but...)\n",
    "2. On it's own, it can be poor as a loss function because it will adjust models based on exaggerated noise.\n",
    "3. You should interpret it by it's shape: If the loss is high, MSE will report it *very* high\n",
    "4. Linearize it by taking the square root for interpretability and removal of exaggeration of noise/outliers.\n",
    "\n",
    "<br>\n",
    "\n",
    "$$\n",
    "\\large\\begin{equation}\n",
    "MAE = \\frac{1}{n}\\sum_{i=1}^{n}(y_i - \\widehat{y_i})^2  \\\\\\\\\n",
    "\\end{equation}\n",
    "$$\n",
    "\n",
    "<br>\n",
    "\n",
    "$$\n",
    "\n",
    "\\small\\begin{aligned}\n",
    "Where, \\\\\n",
    "\\widehat{y_i} &- i^{th}\\, predicted\\, output \\\\\n",
    "y_i &- i^{th}\\, actual\\, output \\\\\n",
    "n &- number\\, of\\, observations\\, in\\, sample\\, or\\, batch \\\\\n",
    "\\end{aligned}\n",
    "$$"
   ],
   "metadata": {}
  },
  {
   "cell_type": "code",
   "execution_count": 2,
   "source": [
    "def mse (yhat:Tensor, y:Tensor)->Tensor:   \n",
    "    assert(yhat.size() == y.size()), 'yhat and y need to be the same size'\n",
    "    assert(yhat.size != 0), 'yhat and y cannot be empty'\n",
    "\n",
    "    n = yhat.size()[0]\n",
    "    inner = (yhat - y)**2\n",
    "    return sum(inner) / n\n",
    "    "
   ],
   "outputs": [],
   "metadata": {}
  },
  {
   "cell_type": "markdown",
   "source": [
    "<br>\n",
    "<br>"
   ],
   "metadata": {}
  },
  {
   "cell_type": "markdown",
   "source": [
    "# Mean Absolute Error\n",
    "AKA **L1** Loss\n",
    "\n",
    "$$\n",
    "\\large\\begin{equation}\n",
    "MAE = \\frac{1}{n}\\sum_{i=1}^{n}\\mid y_i - \\widehat{y_i}\\mid  \\\\\\\\\n",
    "\\end{equation}\n",
    "$$\n",
    "\n",
    "<br>\n",
    "\n",
    "$$\n",
    "\n",
    "\\small\\begin{aligned}\n",
    "Where, \\\\\n",
    "\\widehat{y_i} &- i^{th}\\, predicted\\, output \\\\\n",
    "y_i &- i^{th}\\, actual\\, output \\\\\n",
    "n &- number\\, of\\, observations\\, in\\, sample\\, or\\, batch \\\\\n",
    "\\end{aligned}\n",
    "$$"
   ],
   "metadata": {}
  },
  {
   "cell_type": "code",
   "execution_count": 8,
   "source": [
    "def mae (yhat, y):\n",
    "    \n",
    "    assert(len(yhat) == len(y))\n",
    "    assert(len(yhat) != 0)\n",
    "    \n",
    "    # n = len(yhat)\n",
    "    # inner = [np.abs(yi - yhati) for yi, yhati in zip(yhat, y)]\n",
    "    # return sum(inner) / n\n",
    "\n",
    "    return torch.sum(np.abs(yhat - y)) / len(yhat)"
   ],
   "outputs": [],
   "metadata": {}
  },
  {
   "cell_type": "markdown",
   "source": [
    "<br>\n",
    "<br>"
   ],
   "metadata": {}
  },
  {
   "cell_type": "markdown",
   "source": [
    "# Huber Loss / Metric\n",
    "**Smooth L1** Loss with an adjustable cutoff $(\\delta)$.\n",
    "\n",
    "reference: <a href='https://pytorch.org/docs/stable/generated/torch.nn.SmoothL1Loss.html'>https://pytorch.org/docs/stable/generated/torch.nn.SmoothL1Loss.html</a>\n",
    "\n",
    "<br>\n",
    "\n",
    "Huber is basically a combination of L1 and L2 loss functions.  As our loss approaches the minimum, it will use the MSE and as the loss increases, it will switch over to the MAE - thus kind of giving the best of both worlds.\n",
    "\n",
    "\n",
    "$$\n",
    "\\large\\begin{equation}\\begin{align*}\n",
    "Huber \\quad & = L_\\delta(y, \\widehat{y}) \n",
    "& = \\begin{cases}\n",
    "\\:\\frac{1}{2}(y - \\widehat{y})^2 \\quad\\quad\\quad\\quad &for \\;\\lvert y-\\widehat{y}\\rvert \\,\\le\\, \\delta \\\\\n",
    "\\:\\delta\\left(\\lvert y - \\widehat{y}\\rvert - \\frac{1}{2}\\delta\\right) \\quad\\quad &for \\;\\lvert y-\\widehat{y}\\rvert \\,\\gt\\, \\delta\n",
    "\\end{cases}\n",
    "\\end{align*}\n",
    "\\end{equation}\n",
    "$$\n",
    "\n",
    "<br>\n",
    "\n",
    "$$\n",
    "\n",
    "\\small\\begin{aligned}\n",
    "Where, \\\\\n",
    "\\widehat{y_i} &- i^{th}\\, predicted\\, output \\\\\n",
    "y_i &- i^{th}\\, actual\\, output \\\\\n",
    "n &- number\\, of\\, observations\\, in\\, sample\\, or\\, batch \\\\\n",
    "\\end{aligned}\n",
    "$$"
   ],
   "metadata": {}
  },
  {
   "cell_type": "code",
   "execution_count": 4,
   "source": [
    "# @TODO: Huber has only just been implemented in PyTorch 1.9 so there's nothing to compare against.\n",
    "# I tried getting it to match torch.nn.SmoothL1Loss with beta=1.0 but it doesn't match.\n",
    "# Once I upgrade to Pytorch=1.9, I'll add this back in.\n",
    "\n",
    "def huber(yhat:Tensor, y:Tensor, delta=1.0) -> Tensor:\n",
    "    \n",
    "    assert(len(yhat) == len(y))\n",
    "    assert(len(yhat)) != 0\n",
    "    \n",
    "    residual = y-yhat\n",
    "    \n",
    "    if all(torch.abs(residual) < delta):\n",
    "        return torch.mean(\n",
    "            0.5 * (residual)**2\n",
    "        )\n",
    "   \n",
    "    else:  # in this case,  abs(y-yhat >= delta)\n",
    "        return torch.mean(\n",
    "            delta * (torch.abs(residual) - 0.5 * delta)\n",
    "        )"
   ],
   "outputs": [],
   "metadata": {}
  },
  {
   "cell_type": "markdown",
   "source": [
    "<br>\n",
    "<br>\n",
    "<br>"
   ],
   "metadata": {}
  },
  {
   "cell_type": "markdown",
   "source": [
    "# Unit Tests"
   ],
   "metadata": {}
  },
  {
   "cell_type": "code",
   "execution_count": 7,
   "source": [
    "\n",
    "from numpy.random import default_rng\n",
    "from sklearn.metrics import mean_squared_error, mean_absolute_error\n",
    "import unittest\n",
    "from torch.nn import MSELoss, SmoothL1Loss #, HuberLoss\n",
    "\n",
    "class TestEntireNotebook(unittest.TestCase):\n",
    "    def __init__(self, *args, **kwargs):\n",
    "        super().__init__(*args, **kwargs)\n",
    "        self.rng = default_rng()\n",
    "    \n",
    "    # def test_mse(self):\n",
    "    #     # Generate random Lists\n",
    "    #     yhat = self.rng.standard_normal(1000)\n",
    "    #     y = self.rng.standard_normal(1000)\n",
    "\n",
    "    #     for i in range(100):\n",
    "    #         self.assertEqual(\n",
    "    #             np.round(mse(yhat,y),5), \n",
    "    #             np.round(mean_squared_error(yhat,y),5)\n",
    "    #         )\n",
    "            \n",
    "    def test_mse_torch(self):\n",
    "        loss = MSELoss()\n",
    "        # yhat = torch.tensor(self.rng.standard_normal(1000))\n",
    "        # y = torch.tensor(self.rng.standard_normal(1000))\n",
    "        yhat = torch.randn(1000)\n",
    "        y = torch.randn(1000)\n",
    "\n",
    "        for i in range(100):\n",
    "            self.assertAlmostEqual(  # reconvert to numpy array first\n",
    "                mse(yhat,y).numpy().astype(np.float32), \n",
    "                loss(yhat,y).numpy().astype(np.float32),\n",
    "                places=5\n",
    "            )        \n",
    "        \n",
    "    # def test_huber_torch(self):\n",
    "    #     loss = SmoothL1Loss()\n",
    "    #     yhat = torch.randn(1000)\n",
    "    #     y = torch.randn(1000)\n",
    "\n",
    "    #     ic(loss(yhat,y))\n",
    "    #     ic(huber(yhat,y))\n",
    "    #     for i in range(100):\n",
    "    #         self.assertAlmostEqual(  # reconvert to numpy array first\n",
    "    #             huber(yhat,y).numpy().astype(np.float32), \n",
    "    #             loss(yhat,y).numpy().astype(np.float32)\n",
    "    #         )    \n",
    "\n",
    "    def test_mae(self):\n",
    "        # Generate random Lists\n",
    "        rng = default_rng()\n",
    "        yhat = torch.randn(1000)\n",
    "        y = torch.randn(1000)\n",
    "\n",
    "        for i in range(100):\n",
    "            self.assertAlmostEqual(\n",
    "                mae(yhat,y), \n",
    "                mean_absolute_error(yhat,y),\n",
    "                places=6\n",
    "            )\n",
    "    \n",
    "# Run the unit tests\n",
    "unittest.main(argv=[''], verbosity=2, exit=False)"
   ],
   "outputs": [
    {
     "output_type": "stream",
     "name": "stderr",
     "text": [
      "test_mae (__main__.TestEntireNotebook) ... ERROR\n",
      "test_mse_torch (__main__.TestEntireNotebook) ... ok\n",
      "\n",
      "======================================================================\n",
      "ERROR: test_mae (__main__.TestEntireNotebook)\n",
      "----------------------------------------------------------------------\n",
      "Traceback (most recent call last):\n",
      "  File \"<ipython-input-7-30941090972b>\", line 57, in test_mae\n",
      "    mae(yhat,y),\n",
      "  File \"<ipython-input-3-9f7986d075fc>\", line 10, in mae\n",
      "    return torch.sum(np.abs(yhat - y)) / yhat.size\n",
      "TypeError: unsupported operand type(s) for /: 'Tensor' and 'builtin_function_or_method'\n",
      "\n",
      "----------------------------------------------------------------------\n",
      "Ran 2 tests in 0.202s\n",
      "\n",
      "FAILED (errors=1)\n"
     ]
    },
    {
     "output_type": "execute_result",
     "data": {
      "text/plain": [
       "<unittest.main.TestProgram at 0x7f3d66d625b0>"
      ]
     },
     "metadata": {},
     "execution_count": 7
    }
   ],
   "metadata": {}
  },
  {
   "cell_type": "code",
   "execution_count": 6,
   "source": [
    "# import time\n",
    "# rng = np.random.default_rng()\n",
    "\n",
    "# l1 = rng.standard_normal(10000000)\n",
    "# l2 = rng.standard_normal(10000000)\n",
    "\n",
    "# # l1=list(l1)\n",
    "# # l2=list(l2)\n",
    "# start_time = time.time()\n",
    "\n",
    "# l3 = np.subtract(l1,l2)\n",
    "\n",
    "# print(\"Process finished --- %s seconds ---\" % (time.time() - start_time))"
   ],
   "outputs": [],
   "metadata": {}
  },
  {
   "cell_type": "code",
   "execution_count": null,
   "source": [],
   "outputs": [],
   "metadata": {}
  }
 ],
 "metadata": {
  "orig_nbformat": 4,
  "language_info": {
   "name": "python"
  }
 },
 "nbformat": 4,
 "nbformat_minor": 2
}