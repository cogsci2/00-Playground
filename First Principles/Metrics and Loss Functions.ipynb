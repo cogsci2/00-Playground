{
 "cells": [
  {
   "cell_type": "markdown",
   "source": [
    "# Metrics and Loss Functions from First Principles\n",
    "\n",
    "This is a series of math function recreations for practice.\n",
    "\n",
    "<br>\n",
    "<br>"
   ],
   "metadata": {}
  },
  {
   "cell_type": "code",
   "execution_count": 1,
   "source": [
    "import numpy as np"
   ],
   "outputs": [],
   "metadata": {}
  },
  {
   "cell_type": "markdown",
   "source": [
    "<br>"
   ],
   "metadata": {}
  },
  {
   "cell_type": "markdown",
   "source": [
    "# Mean Squared Error\n",
    "AKA **L2** Loss\n",
    "\n",
    "Notes:\n",
    "1. Tends to exaggerate outliers (nice for interpretation as a metric, but...)\n",
    "2. On it's own, it can be poor as a loss function because it will adjust models based on exaggerated noise.\n",
    "3. You should interpret it by it's shape: If the loss is high, MSE will report it *very* high\n",
    "4. Linearize it by taking the square root for interpretability and removal of exaggeration of noise/outliers.\n",
    "\n",
    "<br>\n",
    "\n",
    "$$\n",
    "\\large\\begin{equation}\n",
    "MAE = \\frac{1}{n}\\sum_{i=1}^{n}(y_i - \\widehat{y_i})^2  \\\\\\\\\n",
    "\\end{equation}\n",
    "$$\n",
    "\n",
    "<br>\n",
    "\n",
    "$$\n",
    "\n",
    "\\small\\begin{aligned}\n",
    "Where, \\\\\n",
    "\\widehat{y_i} &- i^{th}\\, predicted\\, output \\\\\n",
    "y_i &- i^{th}\\, actual\\, output \\\\\n",
    "n &- number\\, of\\, observations\\, in\\, sample\\, or\\, batch \\\\\n",
    "\\end{aligned}\n",
    "$$"
   ],
   "metadata": {}
  },
  {
   "cell_type": "code",
   "execution_count": 2,
   "source": [
    "def mse (list1, list2):\n",
    "    \n",
    "    assert(len(list1) == len(list2))\n",
    "    assert(len(list1) != 0)\n",
    "    \n",
    "    n = len(list1)\n",
    "    inner = [(yi - yhati)**2 for yi, yhati in zip(list1, list2)]\n",
    "    return sum(inner) / n\n",
    "    "
   ],
   "outputs": [],
   "metadata": {}
  },
  {
   "cell_type": "markdown",
   "source": [
    "<br>\n",
    "<br>"
   ],
   "metadata": {}
  },
  {
   "cell_type": "markdown",
   "source": [
    "# Mean Absolute Error\n",
    "AKA **L1** Loss\n",
    "\n",
    "$$\n",
    "\\large\\begin{equation}\n",
    "MAE = \\frac{1}{n}\\sum_{i=1}^{n}\\mid y_i - \\widehat{y_i}\\mid  \\\\\\\\\n",
    "\\end{equation}\n",
    "$$\n",
    "\n",
    "<br>\n",
    "\n",
    "$$\n",
    "\n",
    "\\small\\begin{aligned}\n",
    "Where, \\\\\n",
    "\\widehat{y_i} &- i^{th}\\, predicted\\, output \\\\\n",
    "y_i &- i^{th}\\, actual\\, output \\\\\n",
    "n &- number\\, of\\, observations\\, in\\, sample\\, or\\, batch \\\\\n",
    "\\end{aligned}\n",
    "$$"
   ],
   "metadata": {}
  },
  {
   "cell_type": "code",
   "execution_count": 3,
   "source": [
    "def mae (list1, list2):\n",
    "    \n",
    "    assert(len(list1) == len(list2))\n",
    "    assert(len(list1) != 0)\n",
    "    \n",
    "    n = len(list1)\n",
    "    inner = [np.abs(yi - yhati) for yi, yhati in zip(list1, list2)]\n",
    "    return sum(inner) / n"
   ],
   "outputs": [],
   "metadata": {}
  },
  {
   "cell_type": "markdown",
   "source": [
    "<br>\n",
    "<br>"
   ],
   "metadata": {}
  },
  {
   "cell_type": "markdown",
   "source": [
    "# Huber Loss / Metric\n",
    "Aka the **Smooth L1** Loss\n",
    "\n",
    "Huber is basically a combination of L1 and L2 loss functions.  As our loss approaches the minimum, it will use the MSE and as the loss increases, it will switch over to the MAE - thus kind of giving the best of both worlds.\n",
    "\n",
    "\n",
    "$$\n",
    "\\large\\begin{equation}\\begin{align*}\n",
    "Huber \\quad & = L_\\delta(y, \\widehat{y}) \n",
    "& = \\begin{cases}\n",
    "\\:\\frac{1}{2}(y - \\widehat{y})^2 \\quad\\quad\\quad\\quad &for \\;\\lvert y-\\widehat{y}\\rvert \\,\\le\\, \\delta \\\\\n",
    "\\:\\delta\\lvert y - \\widehat{y}\\rvert - \\frac{1}{2}\\delta^2 \\quad\\quad &for \\;\\lvert y-\\widehat{y}\\rvert \\,\\gt\\, \\delta\n",
    "\\end{cases}\n",
    "\\end{align*}\n",
    "\\end{equation}\n",
    "$$\n",
    "\n",
    "<br>\n",
    "\n",
    "$$\n",
    "\n",
    "\\small\\begin{aligned}\n",
    "Where, \\\\\n",
    "\\widehat{y_i} &- i^{th}\\, predicted\\, output \\\\\n",
    "y_i &- i^{th}\\, actual\\, output \\\\\n",
    "n &- number\\, of\\, observations\\, in\\, sample\\, or\\, batch \\\\\n",
    "\\end{aligned}\n",
    "$$"
   ],
   "metadata": {}
  },
  {
   "cell_type": "markdown",
   "source": [
    "<br>\n",
    "<br>\n",
    "<br>"
   ],
   "metadata": {}
  },
  {
   "cell_type": "markdown",
   "source": [
    "# Unit Tests"
   ],
   "metadata": {}
  },
  {
   "cell_type": "code",
   "execution_count": 4,
   "source": [
    "\n",
    "from numpy.random import default_rng\n",
    "from sklearn.metrics import mean_squared_error, mean_absolute_error\n",
    "import unittest\n",
    "\n",
    "class TestEntireNotebook(unittest.TestCase):\n",
    "    \n",
    "    def test_mse(self):\n",
    "        # Generate random Lists\n",
    "        rng = default_rng()\n",
    "        list1 = rng.standard_normal(1000)\n",
    "        list2 = rng.standard_normal(1000)\n",
    "\n",
    "        for i in range(100):\n",
    "            self.assertEqual(\n",
    "                np.round(mse(list1,list2),5), \n",
    "                np.round(mean_squared_error(list1,list2),5)\n",
    "            )\n",
    "\n",
    "\n",
    "    def test_mae(self):\n",
    "        # Generate random Lists\n",
    "        rng = default_rng()\n",
    "        list1 = rng.standard_normal(1000)\n",
    "        list2 = rng.standard_normal(1000)\n",
    "\n",
    "        for i in range(100):\n",
    "            self.assertEqual(\n",
    "                np.round(mae(list1,list2),5), \n",
    "                np.round(mean_absolute_error(list1,list2),5)\n",
    "            )\n",
    "    \n",
    "# Run the unit tests\n",
    "unittest.main(argv=[''], verbosity=2, exit=False)"
   ],
   "outputs": [
    {
     "output_type": "stream",
     "name": "stderr",
     "text": [
      "test_mae (__main__.TestEntireNotebook) ... ok\n",
      "test_mse (__main__.TestEntireNotebook) ... ok\n",
      "\n",
      "----------------------------------------------------------------------\n",
      "Ran 2 tests in 0.158s\n",
      "\n",
      "OK\n"
     ]
    },
    {
     "output_type": "execute_result",
     "data": {
      "text/plain": [
       "<unittest.main.TestProgram at 0x7fbcc05edd00>"
      ]
     },
     "metadata": {},
     "execution_count": 4
    }
   ],
   "metadata": {}
  },
  {
   "cell_type": "code",
   "execution_count": null,
   "source": [],
   "outputs": [],
   "metadata": {}
  }
 ],
 "metadata": {
  "orig_nbformat": 4,
  "language_info": {
   "name": "python"
  }
 },
 "nbformat": 4,
 "nbformat_minor": 2
}